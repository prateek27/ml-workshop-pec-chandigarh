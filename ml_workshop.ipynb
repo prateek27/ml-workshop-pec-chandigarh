{
 "cells": [
  {
   "cell_type": "code",
   "execution_count": 1,
   "metadata": {},
   "outputs": [],
   "source": [
    "import pandas as pd\n",
    "import numpy as np\n",
    "import matplotlib.pyplot as plt"
   ]
  },
  {
   "cell_type": "code",
   "execution_count": 11,
   "metadata": {},
   "outputs": [
    {
     "name": "stdout",
     "output_type": "stream",
     "text": [
      "(99,)\n",
      "(99,)\n"
     ]
    }
   ],
   "source": [
    "# Data Read \n",
    "def readData(filename):\n",
    "    df = pd.read_csv(filename)\n",
    "    return df.values\n",
    "\n",
    "x = readData('./data/linearX.csv')\n",
    "x = x.reshape((99,)) \n",
    "#Normalization\n",
    "x = (x-x.mean())/x.std()\n",
    "\n",
    "y = readData('./data/linearY.csv')\n",
    "y = y.reshape((99,))\n",
    "print(x.shape)\n",
    "print(y.shape)"
   ]
  },
  {
   "cell_type": "code",
   "execution_count": 12,
   "metadata": {},
   "outputs": [
    {
     "data": {
      "image/png": "[encoded data removed]",
      "text/plain": [
       "<matplotlib.figure.Figure at 0x5251e70>"
      ]
     },
     "metadata": {},
     "output_type": "display_data"
    }
   ],
   "source": [
    "plt.scatter(x,y)\n",
    "plt.show()"
   ]
  },
  {
   "cell_type": "code",
   "execution_count": 33,
   "metadata": {},
   "outputs": [],
   "source": [
    "def hypothesis(theta,x):\n",
    "    return theta[0] + theta[1]*x\n",
    "\n",
    "def error(X,Y,theta):\n",
    "    e = 0\n",
    "    for i in range(X.shape[0]):\n",
    "        e += (Y[i] - hypothesis(theta,X[i]))**2\n",
    "    \n",
    "    return 0.5*e\n",
    "def gradient(Y,X,theta):\n",
    "    grad = np.array([0.0,0.0])\n",
    "    #Sum of gradients over all examples\n",
    "    for i in range(X.shape[0]):\n",
    "        grad[0] += (Y[i]-hypothesis(theta,X[i]))\n",
    "        grad[1] += (Y[i]-hypothesis(theta,X[i]))*X[i]\n",
    "    \n",
    "    return grad\n",
    "        \n",
    "    \n",
    "\n",
    "def gradientDescent(X,Y,learning_rate,maxItr):\n",
    "    \n",
    "    theta = np.array([0.0,0.0])\n",
    "    grad = np.array([0.0,0.0])\n",
    "    \n",
    "    elist = []\n",
    "    \n",
    "    for i in range(maxItr):\n",
    "        e = error(X,Y,theta)\n",
    "        elist.append(e)\n",
    "        grad = gradient(Y,X,theta)\n",
    "        #uupdate theta\n",
    "        theta[0] = theta[0] + learning_rate*grad[0]\n",
    "        theta[1] = theta[1] + learning_rate*grad[1]\n",
    "        \n",
    "    return theta,elist\n",
    "        \n",
    "    "
   ]
  },
  {
   "cell_type": "code",
   "execution_count": 47,
   "metadata": {},
   "outputs": [],
   "source": [
    "theta,error_list = gradientDescent(x,y,learning_rate=0.001,maxItr=1000)"
   ]
  },
  {
   "cell_type": "code",
   "execution_count": 48,
   "metadata": {},
   "outputs": [
    {
     "data": {
      "text/plain": [
       "[<matplotlib.lines.Line2D at 0x32fc570>]"
      ]
     },
     "execution_count": 48,
     "metadata": {},
     "output_type": "execute_result"
    },
    {
     "data": {
      "image/png": "[encoded data removed]",
      "text/plain": [
       "<matplotlib.figure.Figure at 0x3781b70>"
      ]
     },
     "metadata": {},
     "output_type": "display_data"
    }
   ],
   "source": [
    "plt.plot(error_list)"
   ]
  },
  {
   "cell_type": "code",
   "execution_count": 49,
   "metadata": {},
   "outputs": [
    {
     "name": "stdout",
     "output_type": "stream",
     "text": [
      "[0.99663414 0.00135794]\n"
     ]
    }
   ],
   "source": [
    "print(theta)"
   ]
  },
  {
   "cell_type": "code",
   "execution_count": 50,
   "metadata": {},
   "outputs": [
    {
     "data": {
      "text/plain": [
       "[<matplotlib.lines.Line2D at 0x5dfab30>]"
      ]
     },
     "execution_count": 50,
     "metadata": {},
     "output_type": "execute_result"
    },
    {
     "data": {
      "image/png": "[encoded data removed]",
      "text/plain": [
       "<matplotlib.figure.Figure at 0x3309310>"
      ]
     },
     "metadata": {},
     "output_type": "display_data"
    }
   ],
   "source": [
    "plt.scatter(x,y)\n",
    "plt.plot(x,hypothesis(theta,x))"
   ]
  },
  {
   "cell_type": "code",
   "execution_count": null,
   "metadata": {},
   "outputs": [],
   "source": []
  }
 ],
 "metadata": {
  "kernelspec": {
   "display_name": "Python 3",
   "language": "python",
   "name": "python3"
  },
  "language_info": {
   "codemirror_mode": {
    "name": "ipython",
    "version": 3
   },
   "file_extension": ".py",
   "mimetype": "text/x-python",
   "name": "python",
   "nbconvert_exporter": "python",
   "pygments_lexer": "ipython3",
   "version": "3.6.4"
  }
 },
 "nbformat": 4,
 "nbformat_minor": 2
}
